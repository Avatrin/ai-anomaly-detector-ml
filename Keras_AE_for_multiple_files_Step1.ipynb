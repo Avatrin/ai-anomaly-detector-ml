{
  "nbformat": 4,
  "nbformat_minor": 0,
  "metadata": {
    "colab": {
      "name": "Keras_AE_for_multible_files_Step1.ipynb",
      "provenance": [],
      "collapsed_sections": []
    },
    "kernelspec": {
      "name": "python3",
      "display_name": "Python 3"
    },
    "language_info": {
      "name": "python"
    }
  },
  "cells": [
    {
      "cell_type": "markdown",
      "source": [
        "# This notebook creates multiple datasets for Training a Keras AutoEncoder\n",
        "---\n",
        "\n"
      ],
      "metadata": {
        "id": "UW8sFUXwCRhd"
      }
    },
    {
      "cell_type": "markdown",
      "source": [
        "This notebook will create a .csv for each scenario:\n",
        "* 1 motor of the 6 motors drives train: 1, 2, 3\n",
        "  * train1_running_on_drive1.csv\n",
        "  * train1_running_on_drive5.csv\n",
        "  * train1_running_on_drive6.csv\n",
        "  * train2_running_on_drive4.csv\n",
        "  * train2_running_on_drive5.csv\n",
        "  * train2_running_on_drive6.csv\n",
        "  * train3_running_on_drive3.csv\n",
        "  * train3_running_on_drive4.csv\n",
        "  * train3_running_on_drive5.csv\n",
        "* 2 motors of the 6 motors drive train: 1, 2, 3\n",
        "  * train1_running_on_drive1_and_drive6.csv\n",
        "  * train1_running_on_drive5_and_drive6.csv\n",
        "  * train2_running_on_drive4_and_drive5.csv\n",
        "  * train2_running_on_drive5_and_drive6.csv\n",
        "  * train3_running_on_drive2_and_drive3.csv\n",
        "  * train3_running_on_drive3_and_drive4.csv\n",
        "  * train3_running_on_drive4_and_drive5.csv\n",
        "\n",
        "The 16 files are intended to be used as input-data for training the Keras AutoEncoder.\n",
        "\n",
        "This Notesbook becomes useful if there is more data available."
      ],
      "metadata": {
        "id": "1yRRJmUeChjs"
      }
    },
    {
      "cell_type": "markdown",
      "source": [
        "## Preamble"
      ],
      "metadata": {
        "id": "8UJmCCz9NpGP"
      }
    },
    {
      "cell_type": "code",
      "source": [
        "from google.colab import drive\n",
        "drive.mount('/content/drive/', force_remount=True)"
      ],
      "metadata": {
        "colab": {
          "base_uri": "https://localhost:8080/",
          "height": 0
        },
        "id": "CWNCReZCOJKW",
        "outputId": "630a0d52-2d31-4193-ef3c-0eb32b38a022"
      },
      "execution_count": 2,
      "outputs": [
        {
          "output_type": "stream",
          "name": "stdout",
          "text": [
            "Mounted at /content/drive/\n"
          ]
        }
      ]
    },
    {
      "cell_type": "code",
      "execution_count": 3,
      "metadata": {
        "id": "ZSDD6b0RCPQq"
      },
      "outputs": [],
      "source": [
        "import numpy as np\n",
        "import pandas as pd\n",
        "from pathlib import Path\n",
        "import matplotlib.pyplot as plt\n",
        "from matplotlib import animation\n",
        "from collections import Counter\n",
        "from datetime import datetime, timezone"
      ]
    },
    {
      "cell_type": "code",
      "source": [
        "project_root_dir = Path.cwd() / 'drive' / 'My Drive' / 'applied-data-hackathon' / 'predictive-maintenance'"
      ],
      "metadata": {
        "id": "BKImLfRZNvPG"
      },
      "execution_count": 4,
      "outputs": []
    },
    {
      "cell_type": "code",
      "source": [
        "def getNowTime():\n",
        "       return int(datetime.now(tz=timezone.utc).timestamp() * 1000)\n",
        "nowtime = getNowTime()"
      ],
      "metadata": {
        "id": "9RwtbLynLmNe"
      },
      "execution_count": 5,
      "outputs": []
    },
    {
      "cell_type": "markdown",
      "source": [
        "## Load data"
      ],
      "metadata": {
        "id": "RuClg8hmN9ll"
      }
    },
    {
      "cell_type": "markdown",
      "source": [
        "note: number of assigned cannot be more that 1 and at the same time, have number of running to be less than 2. if (n_assigned>1): anomaly if n_running<2"
      ],
      "metadata": {
        "id": "ZOzf8spxTlOz"
      }
    },
    {
      "cell_type": "code",
      "source": [
        "df = pd.read_csv(project_root_dir/\"total_data.csv\", index_col=[0])"
      ],
      "metadata": {
        "id": "FeE0bAa6N_Io"
      },
      "execution_count": 6,
      "outputs": []
    },
    {
      "cell_type": "code",
      "source": [
        "# to get the time in seconds, \n",
        "# subtract the last timestamp from the first one, then\n",
        "# divide the sequence length by the time difference to obtain time duration for each time step\n",
        "# multiply by 60 to get the time in minutes\n",
        "time_per_step =  (df[\"key\"].iloc[-1] - df[\"key\"].iloc[0]) / (len(df[\"key\"]) - 1)\n",
        "# assuming the time_per_step unit is microsecond, the signal is ~8 minutes long\n",
        "# time_per_second(~5000)*(100000)=500000000us=8.3minutes \n",
        "time_min = time_per_step/(60*1e6)\n",
        "#df[\"time(m)\"] = df.apply(lambda x: x.name*time_min, axis=1)"
      ],
      "metadata": {
        "id": "Y4a4oiymypD2"
      },
      "execution_count": 7,
      "outputs": []
    },
    {
      "cell_type": "markdown",
      "source": [
        "# Compute Bollinger bands"
      ],
      "metadata": {
        "id": "4a-yJgi072FW"
      }
    },
    {
      "cell_type": "code",
      "source": [
        "for k in df[[k for k in df.columns if \"torque\" in k]].columns:\n",
        "  df[f\"{k}_sma\"] = df[k].rolling(50).mean()\n",
        "  df[f\"{k}_std\"] = df[k].rolling(50).std()\n",
        "  df[f\"{k}_bollinger_upper\"] = df[f\"{k}_sma\"] + df[f\"{k}_std\"] * 2   # calculate upper band\n",
        "  df[f\"{k}_bollinger_lower\"] = df[f\"{k}_sma\"] - df[f\"{k}_std\"] * 2   # calculate lower band\n"
      ],
      "metadata": {
        "id": "iDeYFLqa76Ae"
      },
      "execution_count": 9,
      "outputs": []
    },
    {
      "cell_type": "markdown",
      "source": [
        "# Dormant state"
      ],
      "metadata": {
        "id": "DgMtF0Eo7wR9"
      }
    },
    {
      "cell_type": "code",
      "source": [
        "# check if the motor is running based on rolling window of the velocity value\n",
        "for k in df[[k for k in df.columns if \"velocity\" in k]].columns:\n",
        "  new_key = k.replace(\"velocity\", \"running\")\n",
        "  #df[new_key] = (df[k].rolling(50).mean() > 10).astype(int)\n",
        "  df[new_key] = (df[k] > 0.03194).astype(int) #0.00194"
      ],
      "metadata": {
        "id": "fn8bSEluXO2t"
      },
      "execution_count": 10,
      "outputs": []
    },
    {
      "cell_type": "code",
      "source": [
        "# combine all the running values to a single list\n",
        "columns = [\"drive1_running\", \"drive2_running\", \"drive3_running\", \"drive4_running\", \"drive5_running\", \"drive6_running\"]\n",
        "df[\"running\"] = df[columns].values.tolist()"
      ],
      "metadata": {
        "id": "umUmlvV8ZBSX"
      },
      "execution_count": 11,
      "outputs": []
    },
    {
      "cell_type": "code",
      "source": [
        "# combine all drive gear poistions to a single list\n",
        "columns = [\"drive1_gear\", \"drive2_gear\", \"drive3_gear\", \"drive4_gear\", \"drive5_gear\", \"drive6_gear\"]\n",
        "df[\"drive_gears\"] = df[columns].values.tolist()"
      ],
      "metadata": {
        "id": "UUtRd9FGN4Hz"
      },
      "execution_count": 12,
      "outputs": []
    },
    {
      "cell_type": "code",
      "source": [
        "# count the number of motors assigned to a particular train\n",
        "df[\"n_assigned\"] = df[\"drive_gears\"].apply(lambda x: dict(Counter(x)))"
      ],
      "metadata": {
        "id": "5s2xQTnhOkQA"
      },
      "execution_count": 13,
      "outputs": []
    },
    {
      "cell_type": "code",
      "source": [
        "# determines number of machines are actually running on which train this time step\n",
        "# returns a dictionary with key=gear, and value=number of motors running on that gear\n",
        "def running_on(row):\n",
        "  running_on = {}\n",
        "  for idx, val in enumerate(row[\"running\"], start=1):\n",
        "    if val:\n",
        "      key = row[f\"drive{idx}_gear\"]\n",
        "      # Use dict.get(key, 0) to get the current value of key in dict, \n",
        "      # if key is present in dict, and otherwise return 0. \n",
        "      # Then, assign dict[key] to 1 plus the result of dict.get().\n",
        "      # running_on[key] = running_on.get(key, 0) + 1\n",
        "      running_on.setdefault(key, []).append(f\"drive{idx}_gear\")\n",
        "\n",
        "  return running_on"
      ],
      "metadata": {
        "id": "nMKB-mGaW0I6"
      },
      "execution_count": 14,
      "outputs": []
    },
    {
      "cell_type": "code",
      "source": [
        "\n",
        "def running_on(row):\n",
        "  running_on = {}\n",
        "  for idx, val in enumerate(row[\"running\"], start=1):\n",
        "    if val:\n",
        "      key = row[f\"drive{idx}_gear\"]\n",
        "      # Use dict.get(key, 0) to get the current value of key in dict, \n",
        "      # if key is present in dict, and otherwise return 0. \n",
        "      # Then, assign dict[key] to 1 plus the result of dict.get().\n",
        "      # running_on[key] = running_on.get(key, 0) + 1\n",
        "      running_on.setdefault(key, []).append(f\"drive{idx}_gear\")\n",
        "\n",
        "  return running_on"
      ],
      "metadata": {
        "id": "Z_V4YNTw1Poy"
      },
      "execution_count": 15,
      "outputs": []
    },
    {
      "cell_type": "code",
      "source": [
        "df[\"running_on\"] = df.apply(lambda x: running_on(x), axis=1)"
      ],
      "metadata": {
        "id": "B0NhvnsWTWIh"
      },
      "execution_count": 16,
      "outputs": []
    },
    {
      "cell_type": "code",
      "source": [
        "for drive in range(1,7):\n",
        "    column_name = f\"drive{drive}_time_since_motor_startup\"\n",
        "    df[column_name] = 0.0\n",
        "    was_running = False\n",
        "    for index in range(0,len(df)-1):\n",
        "        is_running = df.at[index+1,f\"drive{drive}_running\"] \n",
        "        time_delta = (df.at[index+1,\"key\"] - df.at[index,\"key\"])\n",
        "        if not is_running and not was_running:\n",
        "            df.at[index+1,column_name] = 0\n",
        "        else:\n",
        "            was_running = is_running\n",
        "            df.at[index+1,column_name] = df.at[index,column_name] + time_delta"
      ],
      "metadata": {
        "id": "TErjAy0SN5mS"
      },
      "execution_count": 17,
      "outputs": []
    },
    {
      "cell_type": "code",
      "source": [
        "input_data = {}\n",
        "startup_phase_treshold = 515053 #ms\n",
        "for train in range(1,4):\n",
        "    df2 = df\n",
        "    for index in range(0,len(df2)):\n",
        "        row = df2.iloc[index]\n",
        "        for train in row[\"running_on\"]:\n",
        "            drives = row[\"running_on\"][train]\n",
        "            drives.sort()\n",
        "            if not drives is None and len(drives)>0: \n",
        "                modelname = \"train\"+str(int(train))+\"_running_on_\"+'_and_'.join(drives).replace(\"_gear\",\"\")\n",
        "\n",
        "                drive_columns = []\n",
        "                columns = [\"key\"]\n",
        "                for drive in drives:\n",
        "                    #columns.append(drive.replace(\"_gear\",\"_velocity\"))\n",
        "                    columns.append(drive.replace(\"_gear\",\"_torque\"))\n",
        "                    columns.append(drive.replace(\"_gear\",\"_torque_sma\"))\n",
        "                    columns.append(drive.replace(\"_gear\",\"_torque_std\"))\n",
        "                    \n",
        "                    if not startup_phase_treshold == 0:\n",
        "                        columns.append(drive.replace(\"_gear\",\"_time_since_motor_startup\"))\n",
        "                  \n",
        "                if not modelname in input_data:\n",
        "                    print(\"init: \" + modelname)\n",
        "                    input_data[modelname] = pd.DataFrame(columns=columns)\n",
        "\n",
        "                new_row = {}\n",
        "                for index2,column in enumerate(columns):\n",
        "                    if \"_time_since_motor_startup\" in column:\n",
        "                        new_row[column] = min(row[column]/startup_phase_treshold,1)\n",
        "                    else:\n",
        "                        new_row[column] = row[column]\n",
        "\n",
        "                #print(modelname, new_row)\n",
        "                input_data[modelname]=input_data[modelname].append(new_row,ignore_index=True)\n",
        "                    "
      ],
      "metadata": {
        "colab": {
          "base_uri": "https://localhost:8080/",
          "height": 0
        },
        "id": "UtaVlswn3rr6",
        "outputId": "f7f153d5-6891-49be-f224-58d943881f97"
      },
      "execution_count": 18,
      "outputs": [
        {
          "output_type": "stream",
          "name": "stdout",
          "text": [
            "init: train3_running_on_drive2_and_drive3\n",
            "init: train2_running_on_drive4\n",
            "init: train1_running_on_drive5\n",
            "init: train1_running_on_drive5_and_drive6\n",
            "init: train3_running_on_drive3\n",
            "init: train1_running_on_drive6\n",
            "init: train2_running_on_drive4_and_drive5\n",
            "init: train2_running_on_drive5\n",
            "init: train3_running_on_drive3_and_drive4\n",
            "init: train1_running_on_drive1_and_drive6\n",
            "init: train3_running_on_drive4\n",
            "init: train1_running_on_drive1\n",
            "init: train2_running_on_drive5_and_drive6\n",
            "init: train2_running_on_drive6\n",
            "init: train3_running_on_drive4_and_drive5\n",
            "init: train3_running_on_drive5\n"
          ]
        }
      ]
    },
    {
      "cell_type": "code",
      "source": [
        "for filename in input_data:\n",
        "    with open(f'/content/drive/MyDrive/applied-data-hackathon/predictive-maintenance/cleaned_data3/{filename}.csv', \"w\") as fout:\n",
        "        input_data[filename].to_csv(fout, index=\"key\")"
      ],
      "metadata": {
        "id": "Q6XuhvHjU1-f"
      },
      "execution_count": 19,
      "outputs": []
    },
    {
      "cell_type": "code",
      "source": [
        "\n",
        "with open('/content/drive/MyDrive/applied-data-hackathon/predictive-maintenance/total_data3.csv', \"w\") as fout:\n",
        "    df.to_csv(fout, index=\"key\")"
      ],
      "metadata": {
        "id": "THAWntGUVLmt"
      },
      "execution_count": 25,
      "outputs": []
    },
    {
      "cell_type": "code",
      "source": [
        ""
      ],
      "metadata": {
        "id": "x-SzqiazV-1z"
      },
      "execution_count": null,
      "outputs": []
    }
  ]
}