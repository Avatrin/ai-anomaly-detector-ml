{
  "nbformat": 4,
  "nbformat_minor": 0,
  "metadata": {
    "colab": {
      "name": "Keras_AE_for_multiple_files_Step2.ipynb",
      "provenance": [],
      "collapsed_sections": []
    },
    "kernelspec": {
      "name": "python3",
      "display_name": "Python 3"
    },
    "language_info": {
      "name": "python"
    }
  },
  "cells": [
    {
      "cell_type": "markdown",
      "source": [
        "\n",
        "\n",
        "This Notebook is a fork/extension to the original Keras_AE.ipynb-Notebook with the addition of starting training the machine learning models for each file inside the cleaned_data3-folder, instead of just one dataset."
      ],
      "metadata": {
        "id": "-1D4_-CEk7Lk"
      }
    },
    {
      "cell_type": "markdown",
      "source": [
        "Inspired by:\n",
        "---\n",
        "https://keras.io/examples/timeseries/timeseries_anomaly_detection/\n",
        "\n",
        "Data has not been normalized on POC below; That could be good to do."
      ],
      "metadata": {
        "id": "vupGhgRXDWz7"
      }
    },
    {
      "cell_type": "code",
      "execution_count": 75,
      "metadata": {
        "colab": {
          "base_uri": "https://localhost:8080/"
        },
        "id": "XW5FgwMW8njV",
        "outputId": "6e6c2057-8c2b-4100-f19b-1d312a4fd9b8"
      },
      "outputs": [
        {
          "output_type": "stream",
          "name": "stdout",
          "text": [
            "Drive already mounted at /content/drive; to attempt to forcibly remount, call drive.mount(\"/content/drive\", force_remount=True).\n"
          ]
        }
      ],
      "source": [
        "from google.colab import drive\n",
        "drive.mount('/content/drive')"
      ]
    },
    {
      "cell_type": "code",
      "source": [
        "from tensorflow import keras\n",
        "from tensorflow.keras import layers\n",
        "from matplotlib import pyplot as plt\n",
        "import numpy as np\n",
        "import pandas as pd\n",
        "from pathlib import Path\n",
        "filecounter = 0\n",
        "filename = \"\"\n",
        "table_df = 0"
      ],
      "metadata": {
        "id": "fM_skqAr-9Su"
      },
      "execution_count": 76,
      "outputs": []
    },
    {
      "cell_type": "code",
      "source": [
        "import copy"
      ],
      "metadata": {
        "id": "9vhfmAskMRtz"
      },
      "execution_count": 110,
      "outputs": []
    },
    {
      "cell_type": "markdown",
      "source": [
        "Run multiple times from this codeblock to train machine learning model for each file inside the cleaned_data3-folder"
      ],
      "metadata": {
        "id": "_5fLfviwlC3A"
      }
    },
    {
      "cell_type": "code",
      "source": [
        "project_root_dir = Path.cwd() / 'drive' / 'My Drive' / 'applied-data-hackathon' / 'predictive-maintenance'\n",
        "files = sorted(list((project_root_dir / \"cleaned_data3\").glob(\"*.csv\")))\n",
        "index = 0\n",
        "_columns = 0\n",
        "\n",
        "while not index == len(files):\n",
        "    if filecounter == len(files):\n",
        "        raise SystemExit(\"Looped through all files in the folder!\")\n",
        "    file = files[index]\n",
        "    if index == filecounter:\n",
        "      \n",
        "        filename = file.stem\n",
        "        table_df = pd.read_csv(file, on_bad_lines=\"skip\")\n",
        "        _columns = copy.copy(table_df.columns)\n",
        "        filecounter += 1\n",
        "        if len(table_df.values)<100:\n",
        "            print(f\"dataset {filename} is too small\")\n",
        "            index = 0\n",
        "        else:\n",
        "            break\n",
        "        \n",
        "    index += 1\n",
        "filecounter"
      ],
      "metadata": {
        "id": "xBZFdPa7wYlB",
        "colab": {
          "base_uri": "https://localhost:8080/"
        },
        "outputId": "b9d40f5b-b3db-4a52-bc80-61c2b22850b6"
      },
      "execution_count": 112,
      "outputs": [
        {
          "output_type": "execute_result",
          "data": {
            "text/plain": [
              "3"
            ]
          },
          "metadata": {},
          "execution_count": 112
        }
      ]
    },
    {
      "cell_type": "code",
      "source": [
        "table_df = table_df.iloc[: , 1:]"
      ],
      "metadata": {
        "id": "XBd55k9I66ny"
      },
      "execution_count": 113,
      "outputs": []
    },
    {
      "cell_type": "code",
      "source": [
        "table_df"
      ],
      "metadata": {
        "colab": {
          "base_uri": "https://localhost:8080/",
          "height": 423
        },
        "id": "zBcB1-5y8OfB",
        "outputId": "4e121a8b-001a-406c-916d-3ecd9c89ced3"
      },
      "execution_count": 114,
      "outputs": [
        {
          "output_type": "execute_result",
          "data": {
            "text/html": [
              "\n",
              "  <div id=\"df-f4a395ad-f8c3-44e9-941c-554d98b5fce9\">\n",
              "    <div class=\"colab-df-container\">\n",
              "      <div>\n",
              "<style scoped>\n",
              "    .dataframe tbody tr th:only-of-type {\n",
              "        vertical-align: middle;\n",
              "    }\n",
              "\n",
              "    .dataframe tbody tr th {\n",
              "        vertical-align: top;\n",
              "    }\n",
              "\n",
              "    .dataframe thead th {\n",
              "        text-align: right;\n",
              "    }\n",
              "</style>\n",
              "<table border=\"1\" class=\"dataframe\">\n",
              "  <thead>\n",
              "    <tr style=\"text-align: right;\">\n",
              "      <th></th>\n",
              "      <th>key</th>\n",
              "      <th>drive5_torque</th>\n",
              "      <th>drive5_torque_sma</th>\n",
              "      <th>drive5_torque_std</th>\n",
              "      <th>drive5_time_since_motor_startup</th>\n",
              "    </tr>\n",
              "  </thead>\n",
              "  <tbody>\n",
              "    <tr>\n",
              "      <th>0</th>\n",
              "      <td>18504866.0</td>\n",
              "      <td>0.292</td>\n",
              "      <td>NaN</td>\n",
              "      <td>NaN</td>\n",
              "      <td>1.0</td>\n",
              "    </tr>\n",
              "    <tr>\n",
              "      <th>1</th>\n",
              "      <td>18509861.0</td>\n",
              "      <td>0.269</td>\n",
              "      <td>NaN</td>\n",
              "      <td>NaN</td>\n",
              "      <td>1.0</td>\n",
              "    </tr>\n",
              "    <tr>\n",
              "      <th>2</th>\n",
              "      <td>18514857.0</td>\n",
              "      <td>0.301</td>\n",
              "      <td>NaN</td>\n",
              "      <td>NaN</td>\n",
              "      <td>1.0</td>\n",
              "    </tr>\n",
              "    <tr>\n",
              "      <th>3</th>\n",
              "      <td>18519857.0</td>\n",
              "      <td>0.270</td>\n",
              "      <td>NaN</td>\n",
              "      <td>NaN</td>\n",
              "      <td>1.0</td>\n",
              "    </tr>\n",
              "    <tr>\n",
              "      <th>4</th>\n",
              "      <td>18524866.0</td>\n",
              "      <td>0.282</td>\n",
              "      <td>NaN</td>\n",
              "      <td>NaN</td>\n",
              "      <td>1.0</td>\n",
              "    </tr>\n",
              "    <tr>\n",
              "      <th>...</th>\n",
              "      <td>...</td>\n",
              "      <td>...</td>\n",
              "      <td>...</td>\n",
              "      <td>...</td>\n",
              "      <td>...</td>\n",
              "    </tr>\n",
              "    <tr>\n",
              "      <th>20332</th>\n",
              "      <td>44224876.0</td>\n",
              "      <td>0.297</td>\n",
              "      <td>0.27914</td>\n",
              "      <td>0.028320</td>\n",
              "      <td>1.0</td>\n",
              "    </tr>\n",
              "    <tr>\n",
              "      <th>20333</th>\n",
              "      <td>44229872.0</td>\n",
              "      <td>0.276</td>\n",
              "      <td>0.27948</td>\n",
              "      <td>0.028175</td>\n",
              "      <td>1.0</td>\n",
              "    </tr>\n",
              "    <tr>\n",
              "      <th>20334</th>\n",
              "      <td>44234875.0</td>\n",
              "      <td>0.278</td>\n",
              "      <td>0.27970</td>\n",
              "      <td>0.028119</td>\n",
              "      <td>1.0</td>\n",
              "    </tr>\n",
              "    <tr>\n",
              "      <th>20335</th>\n",
              "      <td>44239874.0</td>\n",
              "      <td>0.256</td>\n",
              "      <td>0.27944</td>\n",
              "      <td>0.028279</td>\n",
              "      <td>1.0</td>\n",
              "    </tr>\n",
              "    <tr>\n",
              "      <th>20336</th>\n",
              "      <td>44244880.0</td>\n",
              "      <td>0.260</td>\n",
              "      <td>0.27946</td>\n",
              "      <td>0.028265</td>\n",
              "      <td>1.0</td>\n",
              "    </tr>\n",
              "  </tbody>\n",
              "</table>\n",
              "<p>20337 rows × 5 columns</p>\n",
              "</div>\n",
              "      <button class=\"colab-df-convert\" onclick=\"convertToInteractive('df-f4a395ad-f8c3-44e9-941c-554d98b5fce9')\"\n",
              "              title=\"Convert this dataframe to an interactive table.\"\n",
              "              style=\"display:none;\">\n",
              "        \n",
              "  <svg xmlns=\"http://www.w3.org/2000/svg\" height=\"24px\"viewBox=\"0 0 24 24\"\n",
              "       width=\"24px\">\n",
              "    <path d=\"M0 0h24v24H0V0z\" fill=\"none\"/>\n",
              "    <path d=\"M18.56 5.44l.94 2.06.94-2.06 2.06-.94-2.06-.94-.94-2.06-.94 2.06-2.06.94zm-11 1L8.5 8.5l.94-2.06 2.06-.94-2.06-.94L8.5 2.5l-.94 2.06-2.06.94zm10 10l.94 2.06.94-2.06 2.06-.94-2.06-.94-.94-2.06-.94 2.06-2.06.94z\"/><path d=\"M17.41 7.96l-1.37-1.37c-.4-.4-.92-.59-1.43-.59-.52 0-1.04.2-1.43.59L10.3 9.45l-7.72 7.72c-.78.78-.78 2.05 0 2.83L4 21.41c.39.39.9.59 1.41.59.51 0 1.02-.2 1.41-.59l7.78-7.78 2.81-2.81c.8-.78.8-2.07 0-2.86zM5.41 20L4 18.59l7.72-7.72 1.47 1.35L5.41 20z\"/>\n",
              "  </svg>\n",
              "      </button>\n",
              "      \n",
              "  <style>\n",
              "    .colab-df-container {\n",
              "      display:flex;\n",
              "      flex-wrap:wrap;\n",
              "      gap: 12px;\n",
              "    }\n",
              "\n",
              "    .colab-df-convert {\n",
              "      background-color: #E8F0FE;\n",
              "      border: none;\n",
              "      border-radius: 50%;\n",
              "      cursor: pointer;\n",
              "      display: none;\n",
              "      fill: #1967D2;\n",
              "      height: 32px;\n",
              "      padding: 0 0 0 0;\n",
              "      width: 32px;\n",
              "    }\n",
              "\n",
              "    .colab-df-convert:hover {\n",
              "      background-color: #E2EBFA;\n",
              "      box-shadow: 0px 1px 2px rgba(60, 64, 67, 0.3), 0px 1px 3px 1px rgba(60, 64, 67, 0.15);\n",
              "      fill: #174EA6;\n",
              "    }\n",
              "\n",
              "    [theme=dark] .colab-df-convert {\n",
              "      background-color: #3B4455;\n",
              "      fill: #D2E3FC;\n",
              "    }\n",
              "\n",
              "    [theme=dark] .colab-df-convert:hover {\n",
              "      background-color: #434B5C;\n",
              "      box-shadow: 0px 1px 3px 1px rgba(0, 0, 0, 0.15);\n",
              "      filter: drop-shadow(0px 1px 2px rgba(0, 0, 0, 0.3));\n",
              "      fill: #FFFFFF;\n",
              "    }\n",
              "  </style>\n",
              "\n",
              "      <script>\n",
              "        const buttonEl =\n",
              "          document.querySelector('#df-f4a395ad-f8c3-44e9-941c-554d98b5fce9 button.colab-df-convert');\n",
              "        buttonEl.style.display =\n",
              "          google.colab.kernel.accessAllowed ? 'block' : 'none';\n",
              "\n",
              "        async function convertToInteractive(key) {\n",
              "          const element = document.querySelector('#df-f4a395ad-f8c3-44e9-941c-554d98b5fce9');\n",
              "          const dataTable =\n",
              "            await google.colab.kernel.invokeFunction('convertToInteractive',\n",
              "                                                     [key], {});\n",
              "          if (!dataTable) return;\n",
              "\n",
              "          const docLinkHtml = 'Like what you see? Visit the ' +\n",
              "            '<a target=\"_blank\" href=https://colab.research.google.com/notebooks/data_table.ipynb>data table notebook</a>'\n",
              "            + ' to learn more about interactive tables.';\n",
              "          element.innerHTML = '';\n",
              "          dataTable['output_type'] = 'display_data';\n",
              "          await google.colab.output.renderOutput(dataTable, element);\n",
              "          const docLink = document.createElement('div');\n",
              "          docLink.innerHTML = docLinkHtml;\n",
              "          element.appendChild(docLink);\n",
              "        }\n",
              "      </script>\n",
              "    </div>\n",
              "  </div>\n",
              "  "
            ],
            "text/plain": [
              "              key  drive5_torque  drive5_torque_sma  drive5_torque_std  \\\n",
              "0      18504866.0          0.292                NaN                NaN   \n",
              "1      18509861.0          0.269                NaN                NaN   \n",
              "2      18514857.0          0.301                NaN                NaN   \n",
              "3      18519857.0          0.270                NaN                NaN   \n",
              "4      18524866.0          0.282                NaN                NaN   \n",
              "...           ...            ...                ...                ...   \n",
              "20332  44224876.0          0.297            0.27914           0.028320   \n",
              "20333  44229872.0          0.276            0.27948           0.028175   \n",
              "20334  44234875.0          0.278            0.27970           0.028119   \n",
              "20335  44239874.0          0.256            0.27944           0.028279   \n",
              "20336  44244880.0          0.260            0.27946           0.028265   \n",
              "\n",
              "       drive5_time_since_motor_startup  \n",
              "0                                  1.0  \n",
              "1                                  1.0  \n",
              "2                                  1.0  \n",
              "3                                  1.0  \n",
              "4                                  1.0  \n",
              "...                                ...  \n",
              "20332                              1.0  \n",
              "20333                              1.0  \n",
              "20334                              1.0  \n",
              "20335                              1.0  \n",
              "20336                              1.0  \n",
              "\n",
              "[20337 rows x 5 columns]"
            ]
          },
          "metadata": {},
          "execution_count": 114
        }
      ]
    },
    {
      "cell_type": "code",
      "source": [
        "del table_df[\"key\"]"
      ],
      "metadata": {
        "id": "V5M8Q7jVp3nF"
      },
      "execution_count": 115,
      "outputs": []
    },
    {
      "cell_type": "code",
      "source": [
        "dimensions=0\n",
        "def create_sequences(df, time_steps=100):\n",
        "    output = []\n",
        "    values = df.iloc[:, ].values\n",
        "    dimensions = len(df.columns)\n",
        "    print(dimensions,len(values),values)\n",
        "    for i in range(len(values) - time_steps + 1):\n",
        "        output.append(values[i : (i + time_steps)])\n",
        "    return np.stack(output).reshape(-1,time_steps,dimensions)\n",
        "\n",
        "x_train = create_sequences(table_df)\n",
        "del table_df\n",
        "print(\"Training input shape: \", x_train.shape)\n",
        "dimensions = x_train.shape[2]\n",
        "\n"
      ],
      "metadata": {
        "colab": {
          "base_uri": "https://localhost:8080/"
        },
        "id": "dscdH7NBzACj",
        "outputId": "7ad35310-22f2-49e9-8da1-5e0573521cec"
      },
      "execution_count": 116,
      "outputs": [
        {
          "output_type": "stream",
          "name": "stdout",
          "text": [
            "4 20337 [[0.292             nan        nan 1.        ]\n",
            " [0.269             nan        nan 1.        ]\n",
            " [0.301             nan        nan 1.        ]\n",
            " ...\n",
            " [0.278      0.2797     0.02811874 1.        ]\n",
            " [0.256      0.27944    0.02827934 1.        ]\n",
            " [0.26       0.27946    0.02826493 1.        ]]\n",
            "Training input shape:  (20238, 100, 4)\n"
          ]
        }
      ]
    },
    {
      "cell_type": "code",
      "source": [
        "model = keras.Sequential(\n",
        "    [\n",
        "        layers.Input(shape=(x_train.shape[1], x_train.shape[2])),\n",
        "        layers.Conv1D(\n",
        "            filters=32, kernel_size=7, padding=\"same\", strides=2, activation=\"relu\"\n",
        "        ),\n",
        "        layers.Dropout(rate=0.2),\n",
        "        layers.Conv1D(\n",
        "            filters=16, kernel_size=7, padding=\"same\", strides=2, activation=\"relu\"\n",
        "        ),\n",
        "        layers.Conv1DTranspose(\n",
        "            filters=16, kernel_size=7, padding=\"same\", strides=2, activation=\"relu\"\n",
        "        ),\n",
        "        layers.Dropout(rate=0.2),\n",
        "        layers.Conv1DTranspose(\n",
        "            filters=32, kernel_size=7, padding=\"same\", strides=2, activation=\"relu\"\n",
        "        ),\n",
        "        layers.Conv1DTranspose(filters=1, kernel_size=7, padding=\"same\"),\n",
        "    ]\n",
        ")\n",
        "model.compile(optimizer=keras.optimizers.Adam(learning_rate=0.001), loss=\"mse\")\n",
        "model.summary()"
      ],
      "metadata": {
        "colab": {
          "base_uri": "https://localhost:8080/"
        },
        "id": "vVd_YhNdA2MW",
        "outputId": "928e7e69-dee7-46ca-b3c7-0e87ecb1e70e"
      },
      "execution_count": 117,
      "outputs": [
        {
          "output_type": "stream",
          "name": "stdout",
          "text": [
            "Model: \"sequential_3\"\n",
            "_________________________________________________________________\n",
            " Layer (type)                Output Shape              Param #   \n",
            "=================================================================\n",
            " conv1d_6 (Conv1D)           (None, 50, 32)            928       \n",
            "                                                                 \n",
            " dropout_6 (Dropout)         (None, 50, 32)            0         \n",
            "                                                                 \n",
            " conv1d_7 (Conv1D)           (None, 25, 16)            3600      \n",
            "                                                                 \n",
            " conv1d_transpose_9 (Conv1DT  (None, 50, 16)           1808      \n",
            " ranspose)                                                       \n",
            "                                                                 \n",
            " dropout_7 (Dropout)         (None, 50, 16)            0         \n",
            "                                                                 \n",
            " conv1d_transpose_10 (Conv1D  (None, 100, 32)          3616      \n",
            " Transpose)                                                      \n",
            "                                                                 \n",
            " conv1d_transpose_11 (Conv1D  (None, 100, 1)           225       \n",
            " Transpose)                                                      \n",
            "                                                                 \n",
            "=================================================================\n",
            "Total params: 10,177\n",
            "Trainable params: 10,177\n",
            "Non-trainable params: 0\n",
            "_________________________________________________________________\n"
          ]
        }
      ]
    },
    {
      "cell_type": "code",
      "source": [
        "checkpoint_path = '/content/drive/My Drive/applied-data-hackathon/predictive-maintenance/Keras_AE_checkpoints2'\n",
        "model_checkpoint_callback = keras.callbacks.ModelCheckpoint(\n",
        "    filepath=checkpoint_path,\n",
        "    monitor='val_loss',\n",
        "    mode='min')\n",
        "\n",
        "history = model.fit(\n",
        "    x_train,\n",
        "    x_train,\n",
        "    epochs=1,\n",
        "    batch_size=128,\n",
        "    validation_split=0.1,\n",
        "    callbacks=[\n",
        "        keras.callbacks.EarlyStopping(monitor=\"val_loss\", patience=5, mode=\"min\"),\n",
        "        model_checkpoint_callback\n",
        "    ]\n",
        "    )"
      ],
      "metadata": {
        "colab": {
          "base_uri": "https://localhost:8080/"
        },
        "id": "yEmCWnPrBGfv",
        "outputId": "308b2fbc-fa88-49f5-efc0-c82c16b9f650"
      },
      "execution_count": 118,
      "outputs": [
        {
          "output_type": "stream",
          "name": "stdout",
          "text": [
            "141/143 [============================>.] - ETA: 0s - loss: nanINFO:tensorflow:Assets written to: /content/drive/My Drive/applied-data-hackathon/predictive-maintenance/Keras_AE_checkpoints2/assets\n",
            "143/143 [==============================] - 8s 49ms/step - loss: nan - val_loss: nan\n"
          ]
        }
      ]
    },
    {
      "cell_type": "markdown",
      "source": [
        "Test\n",
        "---"
      ],
      "metadata": {
        "id": "RIL8Bi5oK7Jm"
      }
    },
    {
      "cell_type": "code",
      "source": [
        "table_df = pd.read_csv('/content/drive/My Drive/applied-data-hackathon/predictive-maintenance/total_data.csv', on_bad_lines=\"skip\")\n",
        "drive1_torque = table_df['drive1_torque']\n",
        "drive2_torque = table_df['drive2_torque']\n",
        "drive3_torque = table_df['drive3_torque']\n",
        "drive4_torque = table_df['drive4_torque']\n",
        "drive5_torque = table_df['drive5_torque']\n",
        "drive6_torque = table_df['drive6_torque']\n",
        "torques = pd.concat([drive1_torque,drive2_torque,drive3_torque,drive4_torque,drive5_torque,drive6_torque])\n",
        "print(torques.tail())\n",
        "training_mean = torques.mean()\n",
        "training_std = torques.std()\n",
        "table_df = (table_df - training_mean) / training_std\n",
        "\n",
        "anomaly_noise = pd.read_csv('/content/drive/My Drive/applied-data-hackathon/predictive-maintenance/randoms.csv', on_bad_lines=\"skip\")\n",
        "anomaly_noise = (anomaly_noise - training_mean) / training_std\n",
        "#anomaly_shifted = pd.read_csv('/content/drive/My Drive/applied-data-hackathon/predictive-maintenance/simulated_anomalies/drive4_torque.csv', on_bad_lines=\"skip\")\n",
        "anomaly_shifted = pd.read_csv('/content/drive/My Drive/applied-data-hackathon/predictive-maintenance/simulated_anomalies/drive4_torque.csv', on_bad_lines=\"skip\")['high_value'].dropna()\n",
        "anomaly_shifted = (anomaly_shifted - training_mean) / training_std\n",
        "anomaly_shifted_down = pd.read_csv('/content/drive/My Drive/applied-data-hackathon/predictive-maintenance/simulated_anomalies/drive4_torque.csv', on_bad_lines=\"skip\")['low_value'].dropna()\n",
        "anomaly_shifted_down = (anomaly_shifted_down - training_mean) / training_std\n"
      ],
      "metadata": {
        "id": "2tudD8uyK_Ls",
        "colab": {
          "base_uri": "https://localhost:8080/"
        },
        "outputId": "3c711b8b-8221-4b89-c752-928a7aad6187"
      },
      "execution_count": 119,
      "outputs": [
        {
          "output_type": "stream",
          "name": "stdout",
          "text": [
            "99995    0.170\n",
            "99996    0.155\n",
            "99997    0.195\n",
            "99998    0.211\n",
            "99999    0.245\n",
            "dtype: float64\n"
          ]
        }
      ]
    },
    {
      "cell_type": "code",
      "source": [
        "print(dimensions)\n",
        "#print(np.array(#(np.array([anomaly_shifted.values])*dimensions]).reshape(len(anomaly_shifted),dimensions).shape)\n",
        "val = anomaly_shifted[0:100].values\n",
        "input = np.array([[val]*dimensions]).reshape(-1,100,dimensions)\n",
        "print(val)\n",
        "model.predict(input).shape"
      ],
      "metadata": {
        "colab": {
          "base_uri": "https://localhost:8080/"
        },
        "id": "kr4QsD43P84Q",
        "outputId": "df707981-a723-4cfb-9e89-59da7d832c01"
      },
      "execution_count": 123,
      "outputs": [
        {
          "output_type": "stream",
          "name": "stdout",
          "text": [
            "4\n",
            "[2.25443653 2.05345798 2.38842223 2.12045083 1.73524194 1.818983\n",
            " 1.91947228 1.9529687  2.0869544  2.25443653 2.57265257 2.97460967\n",
            " 2.70663827 1.88597585 1.63475266 1.71849372 1.56775981 1.98646513\n",
            " 2.07020619 2.25443653 2.18744368 1.83573121 1.56775981 2.2209401\n",
            " 2.27118474 2.20419189 2.07020619 2.33817759 2.13719904 2.15394725\n",
            " 1.85247942 2.07020619 2.01996155 2.12045083 2.0869544  2.94111324\n",
            " 3.05835073 2.80712754 1.91947228 1.71849372 1.58450802 1.93622049\n",
            " 1.86922764 2.05345798 2.00321334 2.18744368 1.61800445 1.90272406\n",
            " 2.07020619 2.2209401  1.85247942 2.0869544  2.10370261 2.42191865\n",
            " 2.00321334 1.76873836 1.75199015 2.13719904 1.93622049 2.3549258\n",
            " 2.77363112 3.05835073 2.58940078 2.17069546 1.63475266 1.83573121\n",
            " 1.88597585 1.90272406 1.90272406 2.30468117 2.10370261 1.93622049\n",
            " 2.01996155 2.23768832 2.0869544  2.13719904 2.00321334 2.27118474\n",
            " 2.47216329 2.0869544  1.65150087 1.88597585 1.96971691 1.83573121\n",
            " 2.30468117 2.72338648 2.80712754 2.84062397 2.03670976 1.5510116\n",
            " 1.88597585 1.66824909 1.66824909 1.86922764 2.13719904 1.91947228\n",
            " 2.0869544  1.86922764 2.13719904 2.12045083]\n"
          ]
        },
        {
          "output_type": "execute_result",
          "data": {
            "text/plain": [
              "(1, 100, 1)"
            ]
          },
          "metadata": {},
          "execution_count": 123
        }
      ]
    },
    {
      "cell_type": "code",
      "source": [
        "anomaly = anomaly_noise\n",
        "for k in range(40):\n",
        "  val = anomaly[100*k:100*k +100].values\n",
        "  input = np.array([[val]*dimensions]).reshape(-1,100,dimensions)\n",
        "  prediction = model.predict(input)\n",
        "  train_mae_loss = np.mean(np.abs(prediction - input))\n",
        "  print(train_mae_loss)"
      ],
      "metadata": {
        "colab": {
          "base_uri": "https://localhost:8080/"
        },
        "id": "ErumxzCVLE2N",
        "outputId": "6bacab6b-04d8-4d05-a1da-b7b859e40b00"
      },
      "execution_count": 125,
      "outputs": [
        {
          "output_type": "stream",
          "name": "stdout",
          "text": [
            "nan\n",
            "nan\n",
            "nan\n",
            "nan\n",
            "nan\n",
            "nan\n",
            "nan\n",
            "nan\n",
            "nan\n",
            "nan\n",
            "nan\n",
            "nan\n",
            "nan\n",
            "nan\n",
            "nan\n",
            "nan\n",
            "nan\n",
            "nan\n",
            "nan\n",
            "nan\n",
            "nan\n",
            "nan\n",
            "nan\n",
            "nan\n",
            "nan\n",
            "nan\n",
            "nan\n",
            "nan\n",
            "nan\n",
            "nan\n",
            "nan\n",
            "nan\n",
            "nan\n",
            "nan\n",
            "nan\n",
            "nan\n",
            "nan\n",
            "nan\n",
            "nan\n",
            "nan\n"
          ]
        }
      ]
    },
    {
      "cell_type": "code",
      "source": [
        "#zeros test for off state\n",
        "input = np.zeros(100*dimensions).reshape(-1,100,dimensions)\n",
        "prediction = model.predict(input)\n",
        "train_mae_loss = np.mean(np.abs(prediction[:,-1] - input), axis=0)\n",
        "print(input)"
      ],
      "metadata": {
        "id": "a0y888vXRTn8",
        "colab": {
          "base_uri": "https://localhost:8080/"
        },
        "outputId": "23a8ef2a-4e46-46cd-a075-e071285a9efe"
      },
      "execution_count": 126,
      "outputs": [
        {
          "output_type": "stream",
          "name": "stdout",
          "text": [
            "[[[0. 0. 0. 0.]\n",
            "  [0. 0. 0. 0.]\n",
            "  [0. 0. 0. 0.]\n",
            "  [0. 0. 0. 0.]\n",
            "  [0. 0. 0. 0.]\n",
            "  [0. 0. 0. 0.]\n",
            "  [0. 0. 0. 0.]\n",
            "  [0. 0. 0. 0.]\n",
            "  [0. 0. 0. 0.]\n",
            "  [0. 0. 0. 0.]\n",
            "  [0. 0. 0. 0.]\n",
            "  [0. 0. 0. 0.]\n",
            "  [0. 0. 0. 0.]\n",
            "  [0. 0. 0. 0.]\n",
            "  [0. 0. 0. 0.]\n",
            "  [0. 0. 0. 0.]\n",
            "  [0. 0. 0. 0.]\n",
            "  [0. 0. 0. 0.]\n",
            "  [0. 0. 0. 0.]\n",
            "  [0. 0. 0. 0.]\n",
            "  [0. 0. 0. 0.]\n",
            "  [0. 0. 0. 0.]\n",
            "  [0. 0. 0. 0.]\n",
            "  [0. 0. 0. 0.]\n",
            "  [0. 0. 0. 0.]\n",
            "  [0. 0. 0. 0.]\n",
            "  [0. 0. 0. 0.]\n",
            "  [0. 0. 0. 0.]\n",
            "  [0. 0. 0. 0.]\n",
            "  [0. 0. 0. 0.]\n",
            "  [0. 0. 0. 0.]\n",
            "  [0. 0. 0. 0.]\n",
            "  [0. 0. 0. 0.]\n",
            "  [0. 0. 0. 0.]\n",
            "  [0. 0. 0. 0.]\n",
            "  [0. 0. 0. 0.]\n",
            "  [0. 0. 0. 0.]\n",
            "  [0. 0. 0. 0.]\n",
            "  [0. 0. 0. 0.]\n",
            "  [0. 0. 0. 0.]\n",
            "  [0. 0. 0. 0.]\n",
            "  [0. 0. 0. 0.]\n",
            "  [0. 0. 0. 0.]\n",
            "  [0. 0. 0. 0.]\n",
            "  [0. 0. 0. 0.]\n",
            "  [0. 0. 0. 0.]\n",
            "  [0. 0. 0. 0.]\n",
            "  [0. 0. 0. 0.]\n",
            "  [0. 0. 0. 0.]\n",
            "  [0. 0. 0. 0.]\n",
            "  [0. 0. 0. 0.]\n",
            "  [0. 0. 0. 0.]\n",
            "  [0. 0. 0. 0.]\n",
            "  [0. 0. 0. 0.]\n",
            "  [0. 0. 0. 0.]\n",
            "  [0. 0. 0. 0.]\n",
            "  [0. 0. 0. 0.]\n",
            "  [0. 0. 0. 0.]\n",
            "  [0. 0. 0. 0.]\n",
            "  [0. 0. 0. 0.]\n",
            "  [0. 0. 0. 0.]\n",
            "  [0. 0. 0. 0.]\n",
            "  [0. 0. 0. 0.]\n",
            "  [0. 0. 0. 0.]\n",
            "  [0. 0. 0. 0.]\n",
            "  [0. 0. 0. 0.]\n",
            "  [0. 0. 0. 0.]\n",
            "  [0. 0. 0. 0.]\n",
            "  [0. 0. 0. 0.]\n",
            "  [0. 0. 0. 0.]\n",
            "  [0. 0. 0. 0.]\n",
            "  [0. 0. 0. 0.]\n",
            "  [0. 0. 0. 0.]\n",
            "  [0. 0. 0. 0.]\n",
            "  [0. 0. 0. 0.]\n",
            "  [0. 0. 0. 0.]\n",
            "  [0. 0. 0. 0.]\n",
            "  [0. 0. 0. 0.]\n",
            "  [0. 0. 0. 0.]\n",
            "  [0. 0. 0. 0.]\n",
            "  [0. 0. 0. 0.]\n",
            "  [0. 0. 0. 0.]\n",
            "  [0. 0. 0. 0.]\n",
            "  [0. 0. 0. 0.]\n",
            "  [0. 0. 0. 0.]\n",
            "  [0. 0. 0. 0.]\n",
            "  [0. 0. 0. 0.]\n",
            "  [0. 0. 0. 0.]\n",
            "  [0. 0. 0. 0.]\n",
            "  [0. 0. 0. 0.]\n",
            "  [0. 0. 0. 0.]\n",
            "  [0. 0. 0. 0.]\n",
            "  [0. 0. 0. 0.]\n",
            "  [0. 0. 0. 0.]\n",
            "  [0. 0. 0. 0.]\n",
            "  [0. 0. 0. 0.]\n",
            "  [0. 0. 0. 0.]\n",
            "  [0. 0. 0. 0.]\n",
            "  [0. 0. 0. 0.]\n",
            "  [0. 0. 0. 0.]]]\n"
          ]
        }
      ]
    },
    {
      "cell_type": "code",
      "source": [
        "plt.plot(input[0],'r-',label='real data')\n",
        "plt.plot(prediction[0],'g-',label='predicted')\n",
        "plt.legend()\n",
        "plt.show()"
      ],
      "metadata": {
        "colab": {
          "base_uri": "https://localhost:8080/",
          "height": 265
        },
        "id": "Vhnzw7GLFgly",
        "outputId": "c1ffd4e7-5b93-4120-cad4-c9211ee2235d"
      },
      "execution_count": 127,
      "outputs": [
        {
          "output_type": "display_data",
          "data": {
            "image/png": "[encoded data removed]",
            "text/plain": [
              "<Figure size 432x288 with 1 Axes>"
            ]
          },
          "metadata": {
            "needs_background": "light"
          }
        }
      ]
    },
    {
      "cell_type": "markdown",
      "source": [
        "Visuals\n",
        "---"
      ],
      "metadata": {
        "id": "JI0INHQXfYBY"
      }
    },
    {
      "cell_type": "code",
      "source": [
        "#input = np.array([anomaly_shifted[0:100].values.reshape(100,1)])\n",
        "table_df3 = pd.read_csv('/content/drive/My Drive/applied-data-hackathon/predictive-maintenance/total_data3.csv', on_bad_lines=\"skip\")\n",
        "print(table_df3)\n",
        "table_df2 = pd.DataFrame(columns=_columns[2:])\n",
        "\n",
        "for column in _columns[2:]:\n",
        "    table_df2[column] = table_df3[column]\n",
        "#table_df2 = table_df3[[_columns[2:]]]\n",
        "attempt = 95000\n",
        "input =  np.array([table_df2[attempt:attempt+100].values.reshape(100,dimensions)])\n",
        "x_train_pred = model.predict(input)\n",
        "\n",
        "plt.plot(input[0],'r-',label='real data')\n",
        "plt.plot(x_train_pred[0],'g-',label='predicted')\n",
        "plt.legend()\n",
        "plt.show()"
      ],
      "metadata": {
        "colab": {
          "base_uri": "https://localhost:8080/",
          "height": 1000
        },
        "id": "g_DXU35TfZfr",
        "outputId": "538b0e52-3bbf-4c44-99d5-103a2f00c306"
      },
      "execution_count": 138,
      "outputs": [
        {
          "output_type": "stream",
          "name": "stdout",
          "text": [
            "       Unnamed: 0        key  drive1_velocity  drive1_gear  drive1_torque  \\\n",
            "0               0   18504866         -0.00002          3.0          0.000   \n",
            "1               1   18509861          0.00001          3.0          0.000   \n",
            "2               2   18514857          0.00002          3.0          0.000   \n",
            "3               3   18519857         -0.00001          3.0          0.000   \n",
            "4               4   18524866          0.00000          3.0          0.000   \n",
            "...           ...        ...              ...          ...            ...   \n",
            "99995       99995  518479862         50.08721          1.0          0.252   \n",
            "99996       99996  518484870         50.16852          1.0          0.260   \n",
            "99997       99997  518489864         50.05760          1.0          0.235   \n",
            "99998       99998  518494859         50.01374          1.0          0.259   \n",
            "99999       99999  518499863         49.97903          1.0          0.240   \n",
            "\n",
            "       drive2_gear  drive3_gear  drive4_gear  drive5_gear  drive6_gear  ...  \\\n",
            "0              3.0          3.0          2.0          1.0          3.0  ...   \n",
            "1              3.0          3.0          2.0          1.0          3.0  ...   \n",
            "2              3.0          3.0          2.0          1.0          3.0  ...   \n",
            "3              3.0          3.0          2.0          1.0          3.0  ...   \n",
            "4              3.0          3.0          2.0          1.0          3.0  ...   \n",
            "...            ...          ...          ...          ...          ...  ...   \n",
            "99995          3.0          3.0          3.0          3.0          2.0  ...   \n",
            "99996          3.0          3.0          3.0          3.0          2.0  ...   \n",
            "99997          3.0          3.0          3.0          3.0          2.0  ...   \n",
            "99998          3.0          3.0          3.0          3.0          2.0  ...   \n",
            "99999          3.0          3.0          3.0          3.0          2.0  ...   \n",
            "\n",
            "                  running                     drive_gears  \\\n",
            "0      [0, 1, 1, 1, 1, 0]  [3.0, 3.0, 3.0, 2.0, 1.0, 3.0]   \n",
            "1      [0, 1, 1, 1, 1, 0]  [3.0, 3.0, 3.0, 2.0, 1.0, 3.0]   \n",
            "2      [0, 1, 1, 1, 1, 0]  [3.0, 3.0, 3.0, 2.0, 1.0, 3.0]   \n",
            "3      [0, 1, 1, 1, 1, 0]  [3.0, 3.0, 3.0, 2.0, 1.0, 3.0]   \n",
            "4      [0, 1, 1, 1, 1, 0]  [3.0, 3.0, 3.0, 2.0, 1.0, 3.0]   \n",
            "...                   ...                             ...   \n",
            "99995  [1, 0, 0, 1, 1, 1]  [1.0, 3.0, 3.0, 3.0, 3.0, 2.0]   \n",
            "99996  [1, 0, 0, 1, 1, 1]  [1.0, 3.0, 3.0, 3.0, 3.0, 2.0]   \n",
            "99997  [1, 0, 0, 1, 1, 1]  [1.0, 3.0, 3.0, 3.0, 3.0, 2.0]   \n",
            "99998  [1, 0, 0, 1, 1, 1]  [1.0, 3.0, 3.0, 3.0, 3.0, 2.0]   \n",
            "99999  [1, 0, 0, 1, 1, 1]  [1.0, 3.0, 3.0, 3.0, 3.0, 2.0]   \n",
            "\n",
            "                     n_assigned  \\\n",
            "0      {3.0: 4, 2.0: 1, 1.0: 1}   \n",
            "1      {3.0: 4, 2.0: 1, 1.0: 1}   \n",
            "2      {3.0: 4, 2.0: 1, 1.0: 1}   \n",
            "3      {3.0: 4, 2.0: 1, 1.0: 1}   \n",
            "4      {3.0: 4, 2.0: 1, 1.0: 1}   \n",
            "...                         ...   \n",
            "99995  {1.0: 1, 3.0: 4, 2.0: 1}   \n",
            "99996  {1.0: 1, 3.0: 4, 2.0: 1}   \n",
            "99997  {1.0: 1, 3.0: 4, 2.0: 1}   \n",
            "99998  {1.0: 1, 3.0: 4, 2.0: 1}   \n",
            "99999  {1.0: 1, 3.0: 4, 2.0: 1}   \n",
            "\n",
            "                                              running_on  \\\n",
            "0      {3.0: ['drive2_gear', 'drive3_gear'], 2.0: ['d...   \n",
            "1      {3.0: ['drive2_gear', 'drive3_gear'], 2.0: ['d...   \n",
            "2      {3.0: ['drive2_gear', 'drive3_gear'], 2.0: ['d...   \n",
            "3      {3.0: ['drive2_gear', 'drive3_gear'], 2.0: ['d...   \n",
            "4      {3.0: ['drive2_gear', 'drive3_gear'], 2.0: ['d...   \n",
            "...                                                  ...   \n",
            "99995  {1.0: ['drive1_gear'], 3.0: ['drive4_gear', 'd...   \n",
            "99996  {1.0: ['drive1_gear'], 3.0: ['drive4_gear', 'd...   \n",
            "99997  {1.0: ['drive1_gear'], 3.0: ['drive4_gear', 'd...   \n",
            "99998  {1.0: ['drive1_gear'], 3.0: ['drive4_gear', 'd...   \n",
            "99999  {1.0: ['drive1_gear'], 3.0: ['drive4_gear', 'd...   \n",
            "\n",
            "       drive1_time_since_motor_startup  drive2_time_since_motor_startup  \\\n",
            "0                                  0.0                              0.0   \n",
            "1                                  0.0                           4995.0   \n",
            "2                                  0.0                           9991.0   \n",
            "3                                  0.0                          14991.0   \n",
            "4                                  0.0                          20000.0   \n",
            "...                                ...                              ...   \n",
            "99995                       43305035.0                              0.0   \n",
            "99996                       43310043.0                              0.0   \n",
            "99997                       43315037.0                              0.0   \n",
            "99998                       43320032.0                              0.0   \n",
            "99999                       43325036.0                              0.0   \n",
            "\n",
            "       drive3_time_since_motor_startup  drive4_time_since_motor_startup  \\\n",
            "0                                  0.0                              0.0   \n",
            "1                               4995.0                           4995.0   \n",
            "2                               9991.0                           9991.0   \n",
            "3                              14991.0                          14991.0   \n",
            "4                              20000.0                          20000.0   \n",
            "...                                ...                              ...   \n",
            "99995                              0.0                       37125000.0   \n",
            "99996                              0.0                       37130008.0   \n",
            "99997                              0.0                       37135002.0   \n",
            "99998                              0.0                       37139997.0   \n",
            "99999                              0.0                       37145001.0   \n",
            "\n",
            "       drive5_time_since_motor_startup  drive6_time_since_motor_startup  \n",
            "0                                  0.0                              0.0  \n",
            "1                               4995.0                              0.0  \n",
            "2                               9991.0                              0.0  \n",
            "3                              14991.0                              0.0  \n",
            "4                              20000.0                              0.0  \n",
            "...                                ...                              ...  \n",
            "99995                       37120005.0                       40215015.0  \n",
            "99996                       37125013.0                       40220023.0  \n",
            "99997                       37130007.0                       40225017.0  \n",
            "99998                       37135002.0                       40230012.0  \n",
            "99999                       37140006.0                       40235016.0  \n",
            "\n",
            "[100000 rows x 61 columns]\n"
          ]
        },
        {
          "output_type": "display_data",
          "data": {
            "image/png": "[encoded data removed]",
            "text/plain": [
              "<Figure size 432x288 with 1 Axes>"
            ]
          },
          "metadata": {
            "needs_background": "light"
          }
        }
      ]
    },
    {
      "cell_type": "code",
      "source": [
        ""
      ],
      "metadata": {
        "id": "VmgrdObxFYFb"
      },
      "execution_count": null,
      "outputs": []
    }
  ]
}